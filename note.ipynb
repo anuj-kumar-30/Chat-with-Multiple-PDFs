{
 "cells": [
  {
   "cell_type": "code",
   "execution_count": null,
   "metadata": {},
   "outputs": [],
   "source": [
    "# streamlit - used to create web applications\n",
    "# google-generativeai - helps to generate new text/ content\n",
    "# python-dotenv - load environment variables\n",
    "# langchain - framework to invoke generative AI APIs\n",
    "# PyPDF2 - to read PDF files\n",
    "# chromadb - to store embedded vector data\n",
    "# faiss-cpu - library for efficient similarity search and clustering of dense vectors.\n",
    "# langchain_google_genai - library to access google Gemini models"
   ]
  },
  {
   "cell_type": "code",
   "execution_count": null,
   "metadata": {},
   "outputs": [],
   "source": [
    "# Imports\n",
    "\n",
    "import streamlit as st # for web UI\n",
    "from dotenv import load_dotenv # for .env path keys\n",
    "from PyPDF2 import PdfReader # for reading pdfs\n",
    "from langchain.text_splitter import CharacterTextSplitter # for splitting our pdfs\n",
    "from langchain_google_genai import GoogleGenerativeAIEmbeddings, ChatGoogleGenerativeAI # google embedding methods\n",
    "from langchain_community.vectorstores import FAISS # for storing and searching similar context\n",
    "from langchain.memory import ConversationBufferMemory # \n",
    "from langchain.chains import ConversationalRetrievalChain"
   ]
  }
 ],
 "metadata": {
  "kernelspec": {
   "display_name": "evn",
   "language": "python",
   "name": "python3"
  },
  "language_info": {
   "name": "python",
   "version": "3.13.3"
  }
 },
 "nbformat": 4,
 "nbformat_minor": 2
}
